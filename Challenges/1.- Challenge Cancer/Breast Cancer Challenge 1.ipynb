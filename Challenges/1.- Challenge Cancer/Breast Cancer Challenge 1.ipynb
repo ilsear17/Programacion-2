{
 "cells": [
  {
   "cell_type": "markdown",
   "metadata": {},
   "source": [
    "### **Challenge 1: Breast Cancer**\n",
    "\n",
    "Nombre Alumno: Ilse Arredondo Reyes\n",
    "Codigo de estudiante: 323019078"
   ]
  },
  {
   "cell_type": "code",
   "execution_count": null,
   "metadata": {},
   "outputs": [],
   "source": []
  }
 ],
 "metadata": {
  "language_info": {
   "name": "python"
  }
 },
 "nbformat": 4,
 "nbformat_minor": 2
}
