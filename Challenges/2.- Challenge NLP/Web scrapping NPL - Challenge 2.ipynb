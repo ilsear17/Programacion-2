{
 "cells": [
  {
   "cell_type": "markdown",
   "metadata": {},
   "source": [
    "# <center> <span style=\"color:Blue\">Programacion 2</span> </center>\n",
    "<center> <span style=\"color:Gray\">  Challenge 2: Analizing Comments on Glassdoor </span>  </center>\n",
    "<center> <span style=\"color:Gray\"> Ilse Arredondo Reyes. No. Alumno 323019078</span>  </center>"
   ]
  },
  {
   "cell_type": "markdown",
   "metadata": {},
   "source": [
    "### Project Stages  \n",
    "\n",
    "**Stage 1: Web Scrapping**  \n",
    "\n",
    "Will create a pipeline to extract Information of website Glassdoor\n",
    "○ Web Scraping\n",
    "This endpoint will receive as input Web scrapping:\n",
    "- Open web page\n",
    "- Read the content\n",
    "- Extract content\n",
    "- Save all in a data frame"
   ]
  },
  {
   "cell_type": "code",
   "execution_count": 7,
   "metadata": {},
   "outputs": [],
   "source": [
    "# Import data\n",
    "import pandas as pd\n",
    "import numpy as np\n",
    "from sklearn.model_selection import train_test_split\n",
    "from sklearn.preprocessing import LabelEncoder, StandardScaler\n",
    "from sklearn.ensemble import RandomForestClassifier\n",
    "from sklearn.metrics import accuracy_score, classification_report, roc_curve, auc, confusion_matrix\n",
    "import matplotlib.pyplot as plt\n",
    "import seaborn as sns\n",
    "import mlflow\n",
    "import mlflow.sklearn"
   ]
  },
  {
   "cell_type": "code",
   "execution_count": 8,
   "metadata": {},
   "outputs": [
    {
     "name": "stdout",
     "output_type": "stream",
     "text": [
      "Empty DataFrame\n",
      "Columns: [Job Title, Company, Location]\n",
      "Index: []\n"
     ]
    }
   ],
   "source": [
    "from selenium import webdriver\n",
    "from selenium.webdriver.chrome.options import Options\n",
    "from bs4 import BeautifulSoup\n",
    "import pandas as pd\n",
    "import time\n",
    "\n",
    "def scrape_glassdoor(url):\n",
    "    # Setup Selenium options (headless)\n",
    "    options = Options()\n",
    "    options.headless = True\n",
    "    driver = webdriver.Chrome(options=options)\n",
    "    \n",
    "    try:\n",
    "        # Open the Glassdoor page\n",
    "        driver.get(url)\n",
    "        time.sleep(5)  # wait for page to load completely\n",
    "        \n",
    "        # Read page content\n",
    "        html = driver.page_source\n",
    "        \n",
    "        # Parse with BeautifulSoup\n",
    "        soup = BeautifulSoup(html, 'html.parser')\n",
    "        \n",
    "        # Example: Extract job titles (customize selectors based on Glassdoor structure)\n",
    "        job_titles = [tag.get_text(strip=True) for tag in soup.select('a.jobLink span')]\n",
    "        companies = [tag.get_text(strip=True) for tag in soup.select('div.jobHeader span')]\n",
    "        locations = [tag.get_text(strip=True) for tag in soup.select('span.subtle.loc')]\n",
    "        \n",
    "        # Combine data into a DataFrame\n",
    "        data = pd.DataFrame({\n",
    "            'Job Title': job_titles,\n",
    "            'Company': companies,\n",
    "            'Location': locations\n",
    "        })\n",
    "        \n",
    "        return data\n",
    "    \n",
    "    finally:\n",
    "        driver.quit()\n",
    "\n",
    "# Example usage\n",
    "url = 'https://www.glassdoor.com/Job/software-engineer-jobs-SRCH_KO0,17.htm'\n",
    "df = scrape_glassdoor(url)\n",
    "print(df.head())\n"
   ]
  }
 ],
 "metadata": {
  "kernelspec": {
   "display_name": "PROGRAMACION2",
   "language": "python",
   "name": "python3"
  },
  "language_info": {
   "codemirror_mode": {
    "name": "ipython",
    "version": 3
   },
   "file_extension": ".py",
   "mimetype": "text/x-python",
   "name": "python",
   "nbconvert_exporter": "python",
   "pygments_lexer": "ipython3",
   "version": "3.9.21"
  }
 },
 "nbformat": 4,
 "nbformat_minor": 2
}
